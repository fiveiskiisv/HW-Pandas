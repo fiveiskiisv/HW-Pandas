{
 "cells": [
  {
   "cell_type": "code",
   "execution_count": null,
   "metadata": {},
   "outputs": [],
   "source": [
    "import pandas as pd\n",
    "import numpy as np"
   ]
  },
  {
   "cell_type": "code",
   "execution_count": null,
   "metadata": {},
   "outputs": [],
   "source": [
    "# read data\n",
    "lectures_df_read = pd.read_csv ('data/lectures.csv', sep=',')\n",
    "questions_df_read = pd.read_csv ('data/questions.csv', sep=',')\n",
    "\n",
    "# train.csv is very heavy, optimizing reading by specifying types\n",
    "train_df_read = pd.read_csv ('data/train.csv', sep=',',\n",
    "    dtype={\n",
    "            'row_id': 'int32',\n",
    "            'timestamp': 'int64',\n",
    "            'user_id': 'int32',\n",
    "            'content_id': 'int16',\n",
    "            'content_type_id': 'int8',\n",
    "            'task_container_id': 'int16',\n",
    "            'user_answer': 'int8',\n",
    "            'answered_correctly':'int8',\n",
    "            'prior_question_elapsed_time': 'float32',\n",
    "            'prior_question_had_explanation': 'boolean'\n",
    "            },\n",
    "    )"
   ]
  },
  {
   "cell_type": "code",
   "execution_count": null,
   "metadata": {},
   "outputs": [],
   "source": [
    "# create copy to work with\n",
    "lectures_df = lectures_df_read.copy ()\n",
    "questions_df = questions_df_read.copy ()\n",
    "train_df = train_df_read.copy ()\n"
   ]
  },
  {
   "cell_type": "code",
   "execution_count": null,
   "metadata": {},
   "outputs": [],
   "source": [
    "# convert tags to set\n",
    "questions_df ['tags'] = questions_df ['tags'].apply (lambda x: set ((str(x).split ())))"
   ]
  },
  {
   "cell_type": "code",
   "execution_count": null,
   "metadata": {},
   "outputs": [],
   "source": [
    "# Creating new DataFrame with info about students (users)\n",
    "student_df = pd.Series(train_df['user_id'].unique(), name='user_id').to_frame ()\n",
    "\n",
    "# Dictionary user_id: number of questions answered\n",
    "questions_dict = dict (train_df [train_df ['content_type_id'] == 0]['user_id'].value_counts (dropna = False))\n",
    "\n",
    "# Dictionary user_id: number of correct answers\n",
    "cor_questions_dict = dict (train_df [train_df ['answered_correctly'] == 1] ['user_id'].value_counts (dropna = False))\n",
    "\n",
    "# Adding info about questions to student DataFrame\n",
    "student_df ['questions'] = student_df ['user_id'].apply (lambda id: questions_dict.get (id, 0))\n",
    "student_df ['correct answers'] = student_df ['user_id'].apply (lambda id: cor_questions_dict.get (id, 0))\n",
    "student_df ['correct answers'] = student_df ['correct answers'] / student_df ['questions']\n",
    "\n",
    "display (student_df)"
   ]
  }
 ],
 "metadata": {
  "kernelspec": {
   "display_name": "Python 3.10.2 64-bit",
   "language": "python",
   "name": "python3"
  },
  "language_info": {
   "codemirror_mode": {
    "name": "ipython",
    "version": 3
   },
   "file_extension": ".py",
   "mimetype": "text/x-python",
   "name": "python",
   "nbconvert_exporter": "python",
   "pygments_lexer": "ipython3",
   "version": "3.10.2"
  },
  "orig_nbformat": 4,
  "vscode": {
   "interpreter": {
    "hash": "369f2c481f4da34e4445cda3fffd2e751bd1c4d706f27375911949ba6bb62e1c"
   }
  }
 },
 "nbformat": 4,
 "nbformat_minor": 2
}
